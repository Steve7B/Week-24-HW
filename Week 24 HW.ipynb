{
 "cells": [
  {
   "cell_type": "code",
   "execution_count": 11,
   "metadata": {},
   "outputs": [],
   "source": [
    "Cheese=[3,2,5,6,7,3,2] \n",
    "Crackers = [4,5,6,7,3,5,7]\n",
    "Name=['Max','Felix','Alex','Vivan','Ethan','Justine','Troy'] "
   ]
  },
  {
   "cell_type": "code",
   "execution_count": 4,
   "metadata": {},
   "outputs": [],
   "source": [
    "cheese_hist = {}\n",
    "\n",
    "for key in Cheese:\n",
    "    if key not in cheese_hist.keys():\n",
    "        cheese_hist[key] = 1\n",
    "    else:\n",
    "        cheese_hist[key] += 1"
   ]
  },
  {
   "cell_type": "code",
   "execution_count": 5,
   "metadata": {},
   "outputs": [
    {
     "name": "stdout",
     "output_type": "stream",
     "text": [
      "{3: 2, 2: 2, 5: 1, 6: 1, 7: 1}\n"
     ]
    }
   ],
   "source": [
    "print(cheese_hist)"
   ]
  },
  {
   "cell_type": "code",
   "execution_count": 17,
   "metadata": {},
   "outputs": [
    {
     "name": "stdout",
     "output_type": "stream",
     "text": [
      "{'Max': 4, 'Felix': 5, 'Alex': 6, 'Vivan': 7, 'Ethan': 3, 'Justine': 5, 'Troy': 7}\n"
     ]
    }
   ],
   "source": [
    "cracker_dict = {}\n",
    "\n",
    "n = len(Crackers)\n",
    "for i in range(n):\n",
    "    cracker_dict[Name[i]] = Crackers[i]\n",
    "print(cracker_dict)"
   ]
  },
  {
   "cell_type": "code",
   "execution_count": 19,
   "metadata": {},
   "outputs": [
    {
     "name": "stdout",
     "output_type": "stream",
     "text": [
      "{'Max': 3, 'Felix': 2, 'Alex': 5, 'Vivan': 6, 'Ethan': 7, 'Justine': 3, 'Troy': 2}\n"
     ]
    }
   ],
   "source": [
    "cheese_dict = {}\n",
    "\n",
    "n=len(Name)\n",
    "for i in range(n):\n",
    "    cheese_dict[Name[i]] = Cheese[i]\n",
    "print(cheese_dict)"
   ]
  },
  {
   "cell_type": "code",
   "execution_count": 42,
   "metadata": {},
   "outputs": [],
   "source": [
    "def reverse_lookup(dictionary,num_cheese):\n",
    "    return_name = []\n",
    "    \n",
    "    for name, number in dictionary.items():\n",
    "        if number == num_cheese:\n",
    "            return_name.append(name)\n",
    "    return(return_name)"
   ]
  },
  {
   "cell_type": "code",
   "execution_count": 47,
   "metadata": {},
   "outputs": [
    {
     "data": {
      "text/plain": [
       "['Felix', 'Troy']"
      ]
     },
     "execution_count": 47,
     "metadata": {},
     "output_type": "execute_result"
    }
   ],
   "source": [
    "reverse_lookup(cheese_dict,2)"
   ]
  }
 ],
 "metadata": {
  "kernelspec": {
   "display_name": "Python 3",
   "language": "python",
   "name": "python3"
  },
  "language_info": {
   "codemirror_mode": {
    "name": "ipython",
    "version": 3
   },
   "file_extension": ".py",
   "mimetype": "text/x-python",
   "name": "python",
   "nbconvert_exporter": "python",
   "pygments_lexer": "ipython3",
   "version": "3.8.5"
  }
 },
 "nbformat": 4,
 "nbformat_minor": 4
}
